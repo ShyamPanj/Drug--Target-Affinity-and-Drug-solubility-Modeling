{
 "cells": [
  {
   "cell_type": "markdown",
   "metadata": {},
   "source": [
    "# Affinity & Solubility prediction modeling using ChemBL database: A Machine-learning based approach (Data Pre-processing) "
   ]
  },
  {
   "cell_type": "markdown",
   "metadata": {},
   "source": [
    "The downloaded data from ChEMBL database is not amenable for modelling. Hence, a sequence of pre-processing steps are presented next to prepare dataset for affinity prediction modeling."
   ]
  },
  {
   "cell_type": "code",
   "execution_count": 2,
   "metadata": {},
   "outputs": [],
   "source": [
    "import pandas as pd\n",
    "import numpy as np\n",
    "import tensorflow as tf\n",
    "from rdkit import Chem\n",
    "from rdkit.Chem import AllChem\n",
    "import numpy as np\n",
    "from rdkit import Chem, DataStructs"
   ]
  },
  {
   "cell_type": "markdown",
   "metadata": {},
   "source": [
    "1.Import downloaded data from ChEMBL database"
   ]
  },
  {
   "cell_type": "code",
   "execution_count": 3,
   "metadata": {},
   "outputs": [],
   "source": [
    "Compd_struct_df=pd.read_csv('Compound_Structure.csv')\n",
    "Compd_prop_df=pd.read_csv('Compound_Properties.csv')\n",
    "Activities_df=pd.read_csv('Activities.csv')\n",
    "Assay_df=pd.read_csv('Assay.csv')\n",
    "Target_comp_df=pd.read_csv('Target_Component.csv')\n",
    "Target_comp_seq_df=pd.read_csv('Target_Component_Sequences.csv')\n",
    "Bio_comp_seq_df=pd.read_csv('Bio_Component_Sequences.csv')\n",
    "Bio_comp_df=pd.read_csv('Bio_Component.csv')\n",
    "Biotherapeutic_df=pd.read_csv('Biotherapeutic.csv')"
   ]
  },
  {
   "cell_type": "code",
   "execution_count": 4,
   "metadata": {},
   "outputs": [],
   "source": [
    "# Exclude unwanted columns from the Pandas Dataframes\n",
    "Compd_struct_df=Compd_struct_df.drop('Unnamed: 0',axis=1)\n",
    "Compd_prop_df=Compd_prop_df.drop('Unnamed: 0',axis=1)\n",
    "Activities_df=Activities_df.drop('Unnamed: 0',axis=1)\n",
    "Activities_df=Activities_df.groupby(['assay_id']).first() # remove duplicate assay IDs\n",
    "Assay_df=Assay_df.drop('Unnamed: 0',axis=1)\n",
    "Assay_df=Assay_df.groupby(['assay_id','chembl_id']).first() # remove duplicate assay IDs\n",
    "Target_comp_df=Target_comp_df.drop('Unnamed: 0',axis=1)\n",
    "Target_comp_seq_df=Target_comp_seq_df.drop('Unnamed: 0',axis=1)\n",
    "Bio_comp_seq_df=Bio_comp_seq_df.drop('Unnamed: 0',axis=1)\n",
    "Bio_comp_df=Bio_comp_df.drop('Unnamed: 0',axis=1)\n",
    "Biotherapeutic_df=Biotherapeutic_df.drop('Unnamed: 0',axis=1)"
   ]
  },
  {
   "cell_type": "markdown",
   "metadata": {},
   "source": [
    "2. Converting Canonical SMILES strings to Molecular fingerprints using RDKIT Package"
   ]
  },
  {
   "cell_type": "code",
   "execution_count": null,
   "metadata": {},
   "outputs": [],
   "source": [
    "def MolecularFingerPrint(Final_df):\n",
    "    np_fps=[]\n",
    "    fp_len=1024\n",
    "    L=len(Final_df)\n",
    "    for i in range(L):\n",
    "        mol = Chem.MolFromSmiles(Final_df[i:i+1]['canonical_smiles'].values[0])\n",
    "        try:\n",
    "            fp = AllChem.GetMorganFingerprintAsBitVect(mol,2, nBits=fp_len)\n",
    "            arr = np.zeros((0,), dtype=np.int8)\n",
    "            DataStructs.ConvertToNumpyArray(fp,arr)\n",
    "        except:\n",
    "            arr=np.zeros((1,fp_len))\n",
    "            arr.fill(np.nan)          \n",
    "        np_fps.append(arr)\n",
    "    return np_fps"
   ]
  },
  {
   "cell_type": "markdown",
   "metadata": {},
   "source": [
    "3. Target component sequence data pre-processing\n",
    "\n",
    "Two-dimensional PCA approach was used to covert target protein sequence to numeric data \n",
    "(Two-Dimensional PCA: A New Approach to Appearance-Based Face Representation and Recognition\n",
    "January 2004IEEE Transactions on Pattern Analysis and Machine Intelligence 26(1)DOI: 10.1109/TPAMI.2004.1261097)"
   ]
  },
  {
   "cell_type": "code",
   "execution_count": null,
   "metadata": {},
   "outputs": [],
   "source": [
    "Protein_seq=Target_comp_seq_df[Target_comp_seq_df.component_type==\"PROTEIN\"]\n",
    "Protein_seq=Protein_seq.dropna()\n",
    "\n",
    "seq_size=list()\n",
    "for seq in Protein_seq['sequence']:\n",
    "    seq_size.append(len(seq))\n",
    "print (np.max(seq_size))\n",
    "print (np.min(seq_size))\n",
    "print (np.median(seq_size))\n",
    "med_seq_len=np.median(seq_size)\n",
    "\n",
    "seq_img_avg=np.zeros((21,int(med_seq_len)))\n",
    "for seq_img in seq_imgs:\n",
    "    seq_img_avg=np.add(seq_img_avg,seq_img)\n",
    "    \n",
    "seq_img_avg=seq_img_avg/len(seq_imgs)\n",
    "\n",
    "G=np.zeros((int(med_seq_len),int(med_seq_len)))\n",
    "for seq_img in seq_imgs:\n",
    "    G=np.add(G,np.dot((seq_img-seq_img_avg).T,seq_img-seq_img_avg))\n",
    "\n",
    "G=G/len(seq_imgs)\n",
    "eigval,eigvec=np.linalg.eig(G)\n",
    "idx=np.argsort(eigval)\n",
    "idx=idx[::-1]\n",
    "eigval=eigval[idx]\n",
    "eigvec=eigvec[:,idx]\n",
    "print (eigval[:10])\n",
    "\n",
    "# extract features from image\n",
    "nr=2 # reduced dimensions\n",
    "red_feature_vec_list0=np.empty((1,21*nr))\n",
    "for seq_img in seq_imgs:\n",
    "    red_feature_vec=np.dot(seq_img,eigvec[:,:nr]).reshape((1,21*nr))\n",
    "    red_feature_vec_list0=np.append(red_feature_vec_list0,red_feature_vec,axis=0)\n",
    "\n",
    "red_feature_vec_list=np.delete(red_feature_vec_list0,0,axis=0)\n",
    "print (red_feature_vec_list.shape)\n",
    "print(red_feature_vec_list[0,:])\n",
    "\n",
    "df=pd.DataFrame(red_feature_vec_list)\n",
    "Protein_seq.reset_index(drop=True,inplace=True)\n",
    "Reduced_Seq=pd.concat([df,Protein_seq[\"component_id\"]],axis=1,ignore_index=False)\n",
    "print (Reduced_Seq.loc[0:10,\"component_id\"])\n",
    "Reduced_Seq.to_csv('Reduced_Target_Sequence.csv')"
   ]
  },
  {
   "cell_type": "markdown",
   "metadata": {},
   "source": [
    "ChEMBL database schema (chembl_tables_schema.docx) was used to merge different data tables."
   ]
  },
  {
   "cell_type": "markdown",
   "metadata": {},
   "source": [
    "4. Preparing dataset for Solubilty Prediction Modeling"
   ]
  },
  {
   "cell_type": "code",
   "execution_count": 12,
   "metadata": {},
   "outputs": [],
   "source": [
    "Temp_df1=pd.merge(Activities_df,Compd_struct_df,on='molregno',how='inner')\n",
    "Temp_df2=pd.merge(Temp_df1,Compd_prop_df,on='molregno')\n",
    "Temp_df3=pd.merge(Activities_df,Assay_df,on='assay_id',how='inner')\n",
    "Temp_df4=pd.merge(Temp_df2,Temp_df3,on=['molregno','record_id','standard_value','standard_units','standard_type','pchembl_value'],how='inner').groupby(['molregno','standard_type']).first()\n",
    "Temp_df5=pd.merge(Temp_df4,Target_comp_df,on='tid')\n",
    "Final_df_1=pd.merge(Temp_df5,Target_comp_seq_df,on='component_id')\n",
    "\n",
    "fp_col_names_1=[]\n",
    "for i in range(1024):\n",
    "    fp_col_names_1.append(\"fp_\"+str(i))\n",
    "    \n",
    "np_fps_1=MolecularFingerPrint(Final_df_1)\n",
    "fps_df_1=pd.DataFrame(np_fps_1,columns=fp_col_names_1)\n",
    "Combined_df_1=pd.concat([Final_df_1,fps_df_1],axis=1)\n",
    "Combined_df_1=Combined_df_1.dropna(subset=['canonical_smiles','pchembl_value'])\n",
    "Combined_df_1.to_csv('Combined_data_with_FP_solubility_modeling.csv')"
   ]
  },
  {
   "cell_type": "markdown",
   "metadata": {},
   "source": [
    "5.Preparing dataset for Affinity Prediction Modeling"
   ]
  },
  {
   "cell_type": "code",
   "execution_count": 5,
   "metadata": {},
   "outputs": [],
   "source": [
    "Temp_df6=pd.merge(Compd_struct_df,Biotherapeutic_df,on='molregno',how='inner')\n",
    "Temp_df7=pd.merge(Activities_df,Temp_df6,on='molregno',how='inner')\n",
    "Temp_df8=pd.merge(Temp_df7,Compd_prop_df,on='molregno')\n",
    "Temp_df9=pd.merge(Activities_df,Assay_df,on='assay_id',how='inner')\n",
    "Temp_df10=pd.merge(Temp_df8,Temp_df9,on=['molregno','record_id','standard_value','standard_units','standard_type','pchembl_value'],how='inner').groupby(['molregno','standard_type']).first()\n",
    "Temp_df11=pd.merge(Temp_df10,Target_comp_df,on='tid')\n",
    "Final_df_2=pd.merge(Temp_df11,Reduced_Seq,on='component_id')\n",
    "Final_df_2=Final_df_2.dropna(subset=['pchembl_value','canonical_smiles','sequence'])\n",
    "\n",
    "fp_col_names_2=[]\n",
    "for i in range(1024):\n",
    "    fp_col_names_2.append(\"fp_\"+str(i))\n",
    "    \n",
    "np_fps_2=MolecularFingerPrint(Final_df_2)\n",
    "fps_df_2=pd.DataFrame(np_fps_2,columns=fp_col_names_2)\n",
    "Combined_df_2=pd.concat([Final_df_2,fps_df_2],axis=1)\n",
    "Combined_df_2=Combined_df_2.dropna(subset=['canonical_smiles','pchembl_value'])\n",
    "Combined_df.to_csv('Combined_data_with_FP_2PCA_affinity_modeling.csv')"
   ]
  }
 ],
 "metadata": {
  "kernelspec": {
   "display_name": "Python 3",
   "language": "python",
   "name": "python3"
  },
  "language_info": {
   "codemirror_mode": {
    "name": "ipython",
    "version": 3
   },
   "file_extension": ".py",
   "mimetype": "text/x-python",
   "name": "python",
   "nbconvert_exporter": "python",
   "pygments_lexer": "ipython3",
   "version": "3.7.3"
  }
 },
 "nbformat": 4,
 "nbformat_minor": 2
}
