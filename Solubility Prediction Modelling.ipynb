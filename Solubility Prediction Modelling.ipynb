{
 "cells": [
  {
   "cell_type": "markdown",
   "metadata": {},
   "source": [
    "# Affinity & Solubility prediction modeling using ChemBL database: A Machine-learning based approach (Solubility Prediction Modeling) "
   ]
  },
  {
   "cell_type": "code",
   "execution_count": 1,
   "metadata": {},
   "outputs": [
    {
     "name": "stderr",
     "output_type": "stream",
     "text": [
      "/home/shyam_gsdk/anaconda3/envs/my-rdkit-env/lib/python3.6/site-packages/sklearn/externals/six.py:31: DeprecationWarning: The module is deprecated in version 0.21 and will be removed in version 0.23 since we've dropped support for Python 2.7. Please rely on the official version of six (https://pypi.org/project/six/).\n",
      "  \"(https://pypi.org/project/six/).\", DeprecationWarning)\n"
     ]
    }
   ],
   "source": [
    "import os\n",
    "import pandas as pd\n",
    "import numpy as np\n",
    "import matplotlib.pyplot as plt\n",
    "from sklearn.tree import DecisionTreeRegressor \n",
    "from sklearn.externals.six import StringIO \n",
    "#import pydotplus\n",
    "from sklearn.tree import export_graphviz\n",
    "from sklearn.ensemble import RandomForestRegressor\n",
    "from sklearn.svm import SVR\n",
    "from IPython.display import Image  \n",
    "from sklearn.model_selection import GridSearchCV\n",
    "import tensorflow as tf\n",
    "from tensorflow import keras\n",
    "from tensorflow.keras import layers\n",
    "from sklearn.decomposition import PCA\n",
    "\n",
    "\n",
    "from sklearn.preprocessing import StandardScaler\n",
    "from sklearn.pipeline import make_pipeline\n",
    "from sklearn.metrics import r2_score\n",
    "from sklearn.decomposition import TruncatedSVD\n",
    "from sklearn.model_selection import train_test_split"
   ]
  },
  {
   "cell_type": "markdown",
   "metadata": {},
   "source": [
    "1. Read solubility data"
   ]
  },
  {
   "cell_type": "code",
   "execution_count": 2,
   "metadata": {},
   "outputs": [],
   "source": [
    "data=pd.read_csv('Combined_data_with_FP_solubility_modeling.csv')"
   ]
  },
  {
   "cell_type": "markdown",
   "metadata": {},
   "source": [
    "2. Splitting data for training and testing"
   ]
  },
  {
   "cell_type": "code",
   "execution_count": 4,
   "metadata": {},
   "outputs": [],
   "source": [
    "filtered_data=data.dropna(subset=['acd_logp'])\n",
    "SolubilityModelData=pd.concat([filtered_data.filter(like='fp'),filtered_data['acd_logp']],axis=1)\n",
    "train_data, test_data = train_test_split(SolubilityModelData, test_size=0.2)"
   ]
  },
  {
   "cell_type": "code",
   "execution_count": 5,
   "metadata": {},
   "outputs": [
    {
     "name": "stdout",
     "output_type": "stream",
     "text": [
      "(11966, 1025)\n"
     ]
    }
   ],
   "source": [
    "(nr_train,nc_train)=train_data.shape\n",
    "print (train_data.shape)\n",
    "(nr_test,nc_test)=test_data.shape\n",
    "X_train=train_data.iloc[:,1:nc_train-1]\n",
    "y_train=train_data[\"acd_logp\"]\n",
    "X_test=test_data.iloc[:,1:nc_test-1]\n",
    "y_test=test_data[\"acd_logp\"]"
   ]
  },
  {
   "cell_type": "markdown",
   "metadata": {},
   "source": [
    "3. Dimensionality Reduction using PCA and SVD"
   ]
  },
  {
   "cell_type": "code",
   "execution_count": 24,
   "metadata": {},
   "outputs": [
    {
     "name": "stdout",
     "output_type": "stream",
     "text": [
      "0.9517781825270165\n"
     ]
    }
   ],
   "source": [
    "# Principal component analysis\n",
    "ncomps=[50,100,500,800,1000]\n",
    "var_pca=list()\n",
    "for ncomp in ncomps:\n",
    "    pca=PCA(n_components=ncomp)\n",
    "    scaler=StandardScaler()\n",
    "    PCAModel= make_pipeline(scaler,pca)\n",
    "    PCAModel.fit(X_train)\n",
    "    print(sum(PCAModel.named_steps['pca'].explained_variance_ratio_))\n",
    "    var_pca.append(sum(PCAModel.named_steps['pca'].explained_variance_ratio_))\n",
    "Xpcatrain=PCAModel.transform(X_train)\n",
    "Xpcatest=PCAModel.transform(X_test)\n",
    "\n",
    "# 800 components were used to capture 95% variance"
   ]
  },
  {
   "cell_type": "code",
   "execution_count": 82,
   "metadata": {},
   "outputs": [
    {
     "name": "stdout",
     "output_type": "stream",
     "text": [
      "0.9562158998196905\n"
     ]
    }
   ],
   "source": [
    "# Truncated SVD Method\n",
    "svd=TruncatedSVD(n_components=800)\n",
    "svd.fit(X_train)\n",
    "Xsvdtrain=svd.transform(X_train)\n",
    "Xsvdtest=svd.transform(X_test)\n",
    "print (sum(svd.explained_variance_ratio_))\n",
    "var_svd=sum(svd.explained_variance_ratio_)"
   ]
  },
  {
   "cell_type": "markdown",
   "metadata": {},
   "source": [
    "4. Regression Tree for solubility prediction modeling"
   ]
  },
  {
   "cell_type": "code",
   "execution_count": 35,
   "metadata": {},
   "outputs": [
    {
     "name": "stdout",
     "output_type": "stream",
     "text": [
      "Training R2= 0.999582351276179  Test R2= 0.6496148320477937\n",
      "DecisionTreeRegressor(criterion='mse', max_depth=100, max_features=None,\n",
      "                      max_leaf_nodes=None, min_impurity_decrease=0.0,\n",
      "                      min_impurity_split=None, min_samples_leaf=1,\n",
      "                      min_samples_split=2, min_weight_fraction_leaf=0.0,\n",
      "                      presort=False, random_state=None, splitter='best')\n",
      "0.5901977319652961\n"
     ]
    }
   ],
   "source": [
    "# Training on original data\n",
    "Xtrain=X_train\n",
    "ytrain=y_train\n",
    "Xtest=X_test\n",
    "ytest=y_test\n",
    "parameters={'max_depth':[75,100,450]}\n",
    "regtree=DecisionTreeRegressor()\n",
    "regtree=GridSearchCV(cv=5,estimator=regtree,param_grid=parameters,refit=True,n_jobs=-1)\n",
    "regtree.fit(Xtrain,ytrain)\n",
    "ytrainfit=regtree.predict(Xtrain)\n",
    "ypredtest=regtree.predict(Xtest)\n",
    "\n",
    "trainR2=regtree.score(Xtrain,ytrain)\n",
    "testR2=regtree.score(Xtest,ytest)\n",
    "\n",
    "print (\"Training R2=\",trainR2,\" Test R2=\",testR2)\n",
    "best_tree_model=regtree.best_estimator_\n",
    "best_score=regtree.best_score_\n",
    "print (best_tree_model)\n",
    "print (best_score)\n",
    "\n",
    "\"\"\"\n",
    "Best Model:\n",
    "Training R2= 0.999582351276179  Test R2= 0.6496148320477937\n",
    "DecisionTreeRegressor(criterion='mse', max_depth=100, max_features=None,\n",
    "                      max_leaf_nodes=None, min_impurity_decrease=0.0,\n",
    "                      min_impurity_split=None, min_samples_leaf=1,\n",
    "                      min_samples_split=2, min_weight_fraction_leaf=0.0,\n",
    "                      presort=False, random_state=None, splitter='best')\n",
    "CV R2= 0.5901977319652961\n",
    "\n",
    "\"\"\"\n",
    "\n"
   ]
  },
  {
   "cell_type": "code",
   "execution_count": null,
   "metadata": {},
   "outputs": [],
   "source": [
    "# Train Regression Tree on SVD scores\n",
    "Xtrain=Xsvdtrain\n",
    "ytrain=y_train\n",
    "Xtest=Xsvdtest\n",
    "ytest=y_test\n",
    "parameters={'max_depth':[25,50,100,150,200,300]}\n",
    "regtree=DecisionTreeRegressor()\n",
    "regtree=GridSearchCV(cv=5,estimator=regtree,param_grid=parameters,refit=True,n_jobs=-1)\n",
    "regtree.fit(Xtrain,ytrain)\n",
    "ytrainfit=regtree.predict(Xsvdtrain)\n",
    "ypredtest=regtree.predict(Xsvdtest)\n",
    "\n",
    "trainR2=regtree.score(Xsvdtrain,ytrain)\n",
    "testR2=regtree.score(Xsvdtest,ytest)\n",
    "\n",
    "print (\"Training R2=\",trainR2,\" Test R2=\",testR2)\n",
    "best_tree_model=regtree.best_estimator_\n",
    "print (best_tree_model)\n",
    "best_cv_score=regtree.best_score_\n",
    "print (best_cv_score)\n",
    "\n",
    "\"\"\"\n",
    "Best model:\n",
    "Training R2= 0.999582351276179  Test R2= 0.5768005253013688\n",
    "DecisionTreeRegressor(criterion='mse', max_depth=200, max_features=None,\n",
    "                      max_leaf_nodes=None, min_impurity_decrease=0.0,\n",
    "                      min_impurity_split=None, min_samples_leaf=1,\n",
    "                      min_samples_split=2, min_weight_fraction_leaf=0.0,\n",
    "                      presort=False, random_state=None, splitter='best')\n",
    "\n",
    "Best_cv_score=0.517\n",
    "\"\"\""
   ]
  },
  {
   "cell_type": "markdown",
   "metadata": {},
   "source": [
    "5. XGBoost Regression for solubility modeling"
   ]
  },
  {
   "cell_type": "code",
   "execution_count": null,
   "metadata": {},
   "outputs": [],
   "source": [
    "from sklearn.ensemble import GradientBoostingRegressor\n",
    "Xtrain=X_train\n",
    "ytrain=y_train\n",
    "Xtest=X_test\n",
    "ytest=y_test\n",
    "parameters={'max_depth':[10,50,100,150],'n_estimators':[10,50,100,150]}\n",
    "xgboost=GradientBoostingRegressor()\n",
    "xgboostMdl=GridSearchCV(cv=5,estimator=xgboost,param_grid=parameters,refit=True,n_jobs=-1)\n",
    "xgboostMdl.fit(Xtrain,ytrain)\n",
    "ytrainfit=xgboostMdl.predict(Xtrain)\n",
    "ypredtest=xgboostMdl.predict(Xtest)\n",
    "\n",
    "trainR2_xg=xgboostMdl.score(Xtrain,ytrain)\n",
    "testR2_xg=xgboostMdl.score(Xtest,ytest)\n",
    "\n",
    "print (\"Training R2=\",trainR2_xg,\" Test R2=\",testR2_xg)\n",
    "best_xgboost_Mdl=xgboostMdl.best_estimator_\n",
    "print (best_xgboost_Mdl)\n",
    "best_cv_score_xg=xgboostMdl.best_score_\n",
    "\n",
    "\"\"\"\n",
    "parameters={'max_depth':[10,50,100,150],'n_estimators':[10,50,100,150]}\n",
    "GradientBoostingRegressor(alpha=0.9, criterion='friedman_mse', init=None,\n",
    "                          learning_rate=0.1, loss='ls', max_depth=10,\n",
    "                          max_features=None, max_leaf_nodes=None,\n",
    "                          min_impurity_decrease=0.0, min_impurity_split=None,\n",
    "                          min_samples_leaf=1, min_samples_split=2,\n",
    "                          min_weight_fraction_leaf=0.0, n_estimators=150,\n",
    "                          n_iter_no_change=None, presort='auto',\n",
    "                          random_state=None, subsample=1.0, tol=0.0001,\n",
    "                          validation_fraction=0.1, verbose=0, warm_start=False)\n",
    "Training R2= 0.9973967230196311  Test R2= 0.8665960867663121 CV R2=0.832001444085638\n",
    "\n",
    "\"\"\"\n"
   ]
  },
  {
   "cell_type": "code",
   "execution_count": 97,
   "metadata": {},
   "outputs": [
    {
     "name": "stdout",
     "output_type": "stream",
     "text": [
      "GradientBoostingRegressor(alpha=0.9, criterion='friedman_mse', init=None,\n",
      "                          learning_rate=0.1, loss='ls', max_depth=10,\n",
      "                          max_features=None, max_leaf_nodes=None,\n",
      "                          min_impurity_decrease=0.0, min_impurity_split=None,\n",
      "                          min_samples_leaf=1, min_samples_split=2,\n",
      "                          min_weight_fraction_leaf=0.0, n_estimators=150,\n",
      "                          n_iter_no_change=None, presort='auto',\n",
      "                          random_state=None, subsample=1.0, tol=0.0001,\n",
      "                          validation_fraction=0.1, verbose=0, warm_start=False)\n",
      "Training R2= 0.9973967230196311  Test R2= 0.8665960867663121\n",
      "0.832001444085638\n"
     ]
    }
   ],
   "source": [
    "print (best_xgboost_Mdl)\n",
    "print (\"Training R2=\",trainR2_xg,\" Test R2=\",testR2_xg)\n",
    "print (best_cv_score_xg)"
   ]
  },
  {
   "cell_type": "markdown",
   "metadata": {},
   "source": [
    "6. Random Forest Regression for solubility modeling"
   ]
  },
  {
   "cell_type": "code",
   "execution_count": null,
   "metadata": {},
   "outputs": [],
   "source": [
    "Xtrain=X_train\n",
    "ytrain=y_train\n",
    "Xtest=X_test\n",
    "ytest=y_test\n",
    "parameters={'max_depth':[10,50,100,150],'n_estimators':[10,50,100,150]}\n",
    "RF=RandomForestRegressor()\n",
    "RFMdl=GridSearchCV(cv=5,estimator=RF,param_grid=parameters,refit=True,n_jobs=-1)\n",
    "RFMdl.fit(Xtrain,ytrain)\n",
    "ytrainfit=RFMdl.predict(Xtrain)\n",
    "ypredtest=RFMdl.predict(Xtest)\n",
    "\n",
    "trainR2_rf=RFMdl.score(Xtrain,ytrain)\n",
    "testR2_rf=RFMdl.score(Xtest,ytest)\n",
    "\n",
    "print (\"Training R2=\",trainR2_rf,\" Test R2=\",testR2_rf)\n",
    "best_RF_Mdl=RFMdl.best_estimator_\n",
    "print (best_RF_Mdl)\n",
    "best_cv_score_RF=RFMdl.best_score_\n",
    "\n",
    "\"\"\"\n",
    "Best Model:\n",
    "parameters={'max_depth':[10,50,100,150],'n_estimators':[10,50,100,150]}\n",
    "parameters={'max_depth':[30,60,100],'n_estimators':[10,50,100]}\n",
    "RandomForestRegressor(bootstrap=True, criterion='mse', max_depth=100,\n",
    "                      max_features='auto', max_leaf_nodes=None,\n",
    "                      min_impurity_decrease=0.0, min_impurity_split=None,\n",
    "                      min_samples_leaf=1, min_samples_split=2,\n",
    "                      min_weight_fraction_leaf=0.0, n_estimators=150,\n",
    "                      n_jobs=None, oob_score=False, random_state=None,\n",
    "                      verbose=0, warm_start=False)\n",
    "\n",
    "Training R2= 0.9755016998816263 Test R2= 0.8393336180564913 CV R2=0.8041421233391818\n",
    "\"\"\"\n",
    "\n"
   ]
  },
  {
   "cell_type": "markdown",
   "metadata": {
    "collapsed": true
   },
   "source": [
    "7. Neural network regression using tensorflow"
   ]
  },
  {
   "cell_type": "code",
   "execution_count": 85,
   "metadata": {},
   "outputs": [],
   "source": [
    "def build_model(nlayer,n,input_size):\n",
    "    model=keras.Sequential()\n",
    "    model.add(layers.Dense(n[0],input_shape=(input_size,),kernel_initializer='glorot_uniform'))\n",
    "    for k in range(nlayer):\n",
    "        model.add(layers.Dense(n[k],activation='relu',kernel_initializer='glorot_uniform'))\n",
    "        model.add(layers.Dropout(0.2))\n",
    "    model.add(layers.Dense(1,activation='linear'))\n",
    "    \n",
    "    opt=tf.keras.optimizers.Adam()\n",
    "    model.compile(loss='mse',optimizer=opt)\n",
    "    \n",
    "    return model"
   ]
  },
  {
   "cell_type": "code",
   "execution_count": 89,
   "metadata": {},
   "outputs": [
    {
     "name": "stdout",
     "output_type": "stream",
     "text": [
      "Train on 9572 samples, validate on 2394 samples\n",
      "Epoch 1/300\n",
      "9572/9572 - 2s - loss: 6.0308 - val_loss: 4.5118\n",
      "Epoch 2/300\n",
      "9572/9572 - 1s - loss: 2.9310 - val_loss: 2.8738\n",
      "Epoch 3/300\n",
      "9572/9572 - 1s - loss: 1.8244 - val_loss: 2.5651\n",
      "Epoch 4/300\n",
      "9572/9572 - 1s - loss: 1.3737 - val_loss: 2.6595\n",
      "Epoch 5/300\n",
      "9572/9572 - 1s - loss: 1.2607 - val_loss: 2.1216\n",
      "Epoch 6/300\n",
      "9572/9572 - 1s - loss: 1.0692 - val_loss: 3.5398\n",
      "Epoch 7/300\n",
      "9572/9572 - 1s - loss: 0.9678 - val_loss: 2.1504\n",
      "Epoch 8/300\n",
      "9572/9572 - 1s - loss: 0.8531 - val_loss: 3.2513\n",
      "Epoch 9/300\n",
      "9572/9572 - 1s - loss: 0.8439 - val_loss: 2.5072\n",
      "Epoch 10/300\n",
      "9572/9572 - 1s - loss: 0.7546 - val_loss: 2.7429\n",
      "Epoch 11/300\n",
      "9572/9572 - 1s - loss: 0.7182 - val_loss: 2.1421\n",
      "Epoch 12/300\n",
      "9572/9572 - 1s - loss: 0.6843 - val_loss: 2.5040\n",
      "Epoch 13/300\n",
      "9572/9572 - 1s - loss: 0.6783 - val_loss: 2.2926\n",
      "Epoch 14/300\n",
      "9572/9572 - 1s - loss: 0.6399 - val_loss: 2.6439\n",
      "Epoch 15/300\n",
      "9572/9572 - 1s - loss: 0.6649 - val_loss: 2.1540\n",
      "Epoch 16/300\n",
      "9572/9572 - 1s - loss: 0.5713 - val_loss: 2.6055\n",
      "Epoch 17/300\n",
      "9572/9572 - 1s - loss: 0.5517 - val_loss: 2.1859\n",
      "Epoch 18/300\n",
      "9572/9572 - 1s - loss: 0.5581 - val_loss: 2.4394\n",
      "Epoch 19/300\n",
      "9572/9572 - 1s - loss: 0.5481 - val_loss: 2.5976\n",
      "Epoch 20/300\n",
      "9572/9572 - 1s - loss: 0.5191 - val_loss: 2.1561\n",
      "Epoch 21/300\n",
      "9572/9572 - 1s - loss: 0.5174 - val_loss: 2.4729\n",
      "Epoch 22/300\n",
      "9572/9572 - 1s - loss: 0.5660 - val_loss: 2.3140\n",
      "Epoch 23/300\n",
      "9572/9572 - 1s - loss: 0.5041 - val_loss: 2.4371\n",
      "Epoch 24/300\n",
      "9572/9572 - 1s - loss: 0.4811 - val_loss: 2.1421\n",
      "Epoch 25/300\n",
      "9572/9572 - 1s - loss: 0.4696 - val_loss: 2.2321\n",
      "Epoch 26/300\n",
      "9572/9572 - 1s - loss: 0.4703 - val_loss: 2.4089\n",
      "Epoch 27/300\n",
      "9572/9572 - 1s - loss: 0.4717 - val_loss: 2.0420\n",
      "Epoch 28/300\n",
      "9572/9572 - 1s - loss: 0.4542 - val_loss: 2.4363\n",
      "Epoch 29/300\n",
      "9572/9572 - 1s - loss: 0.4729 - val_loss: 2.5350\n",
      "Epoch 30/300\n",
      "9572/9572 - 1s - loss: 0.4312 - val_loss: 2.1305\n",
      "Epoch 31/300\n",
      "9572/9572 - 1s - loss: 0.4746 - val_loss: 2.2879\n",
      "Epoch 32/300\n",
      "9572/9572 - 1s - loss: 0.4491 - val_loss: 2.1418\n",
      "Epoch 33/300\n",
      "9572/9572 - 1s - loss: 0.4288 - val_loss: 2.1218\n",
      "Epoch 34/300\n",
      "9572/9572 - 1s - loss: 0.4012 - val_loss: 2.1674\n",
      "Epoch 35/300\n",
      "9572/9572 - 1s - loss: 0.4095 - val_loss: 1.8683\n",
      "Epoch 36/300\n",
      "9572/9572 - 1s - loss: 0.4183 - val_loss: 2.1732\n",
      "Epoch 37/300\n",
      "9572/9572 - 1s - loss: 0.4372 - val_loss: 2.1775\n",
      "Epoch 38/300\n",
      "9572/9572 - 1s - loss: 0.3832 - val_loss: 1.9408\n",
      "Epoch 39/300\n",
      "9572/9572 - 1s - loss: 0.4166 - val_loss: 2.1768\n",
      "Epoch 40/300\n",
      "9572/9572 - 1s - loss: 0.3973 - val_loss: 2.3271\n",
      "Epoch 41/300\n",
      "9572/9572 - 1s - loss: 0.3851 - val_loss: 2.0308\n",
      "Epoch 42/300\n",
      "9572/9572 - 1s - loss: 0.3977 - val_loss: 1.9663\n",
      "Epoch 43/300\n",
      "9572/9572 - 1s - loss: 0.4066 - val_loss: 2.2466\n",
      "Epoch 44/300\n",
      "9572/9572 - 1s - loss: 0.3795 - val_loss: 2.0235\n",
      "Epoch 45/300\n",
      "9572/9572 - 1s - loss: 0.3834 - val_loss: 1.8823\n",
      "Epoch 46/300\n",
      "9572/9572 - 1s - loss: 0.3705 - val_loss: 2.0078\n",
      "Epoch 47/300\n",
      "9572/9572 - 1s - loss: 0.3672 - val_loss: 2.2044\n",
      "Epoch 48/300\n",
      "9572/9572 - 1s - loss: 0.3691 - val_loss: 2.0581\n",
      "Epoch 49/300\n",
      "9572/9572 - 1s - loss: 0.4032 - val_loss: 2.0115\n",
      "Epoch 50/300\n",
      "9572/9572 - 1s - loss: 0.3961 - val_loss: 2.0680\n",
      "Epoch 51/300\n",
      "9572/9572 - 1s - loss: 0.4120 - val_loss: 2.2372\n",
      "Epoch 52/300\n",
      "9572/9572 - 1s - loss: 0.4123 - val_loss: 2.0624\n",
      "Epoch 53/300\n",
      "9572/9572 - 1s - loss: 0.3740 - val_loss: 2.1780\n",
      "Epoch 54/300\n",
      "9572/9572 - 1s - loss: 0.3521 - val_loss: 2.1528\n",
      "Epoch 55/300\n",
      "9572/9572 - 1s - loss: 0.3895 - val_loss: 1.9735\n",
      "Epoch 56/300\n",
      "9572/9572 - 1s - loss: 0.4034 - val_loss: 2.1394\n",
      "Epoch 57/300\n",
      "9572/9572 - 1s - loss: 0.3536 - val_loss: 1.9099\n",
      "Epoch 58/300\n",
      "9572/9572 - 1s - loss: 0.3929 - val_loss: 1.9991\n",
      "Epoch 59/300\n",
      "9572/9572 - 1s - loss: 0.3503 - val_loss: 2.1578\n",
      "Epoch 60/300\n",
      "9572/9572 - 1s - loss: 0.3433 - val_loss: 2.0076\n",
      "Epoch 61/300\n",
      "9572/9572 - 1s - loss: 0.3567 - val_loss: 1.9722\n",
      "Epoch 62/300\n",
      "9572/9572 - 1s - loss: 0.3236 - val_loss: 1.8651\n",
      "Epoch 63/300\n",
      "9572/9572 - 1s - loss: 0.3469 - val_loss: 1.9825\n",
      "Epoch 64/300\n",
      "9572/9572 - 1s - loss: 0.3359 - val_loss: 2.1457\n",
      "Epoch 65/300\n",
      "9572/9572 - 1s - loss: 0.3373 - val_loss: 2.0985\n",
      "Epoch 66/300\n",
      "9572/9572 - 1s - loss: 0.3135 - val_loss: 2.0223\n",
      "Epoch 67/300\n",
      "9572/9572 - 1s - loss: 0.3223 - val_loss: 1.9951\n",
      "Epoch 68/300\n",
      "9572/9572 - 1s - loss: 0.3816 - val_loss: 1.7846\n",
      "Epoch 69/300\n",
      "9572/9572 - 1s - loss: 0.3471 - val_loss: 2.0692\n",
      "Epoch 70/300\n",
      "9572/9572 - 1s - loss: 0.3409 - val_loss: 1.8179\n",
      "Epoch 71/300\n",
      "9572/9572 - 1s - loss: 0.3829 - val_loss: 2.0308\n",
      "Epoch 72/300\n",
      "9572/9572 - 1s - loss: 0.3242 - val_loss: 2.0301\n",
      "Epoch 73/300\n",
      "9572/9572 - 1s - loss: 0.3198 - val_loss: 1.8292\n",
      "Epoch 74/300\n",
      "9572/9572 - 1s - loss: 0.3289 - val_loss: 2.2127\n",
      "Epoch 75/300\n",
      "9572/9572 - 1s - loss: 0.3392 - val_loss: 1.9937\n",
      "Epoch 76/300\n",
      "9572/9572 - 1s - loss: 0.3174 - val_loss: 2.0075\n",
      "Epoch 77/300\n",
      "9572/9572 - 1s - loss: 0.3006 - val_loss: 1.8364\n",
      "Epoch 78/300\n",
      "9572/9572 - 1s - loss: 0.3138 - val_loss: 1.8788\n",
      "Epoch 79/300\n",
      "9572/9572 - 1s - loss: 0.3548 - val_loss: 1.9785\n",
      "Epoch 80/300\n",
      "9572/9572 - 1s - loss: 0.3200 - val_loss: 1.9704\n",
      "Epoch 81/300\n",
      "9572/9572 - 1s - loss: 0.3433 - val_loss: 1.9851\n",
      "Epoch 82/300\n",
      "9572/9572 - 1s - loss: 0.3316 - val_loss: 1.9077\n",
      "Epoch 83/300\n",
      "9572/9572 - 1s - loss: 0.3238 - val_loss: 2.0231\n",
      "Epoch 84/300\n",
      "9572/9572 - 1s - loss: 0.3072 - val_loss: 2.1221\n",
      "Epoch 85/300\n",
      "9572/9572 - 1s - loss: 0.3205 - val_loss: 1.8301\n",
      "Epoch 86/300\n",
      "9572/9572 - 1s - loss: 0.3194 - val_loss: 2.1118\n",
      "Epoch 87/300\n",
      "9572/9572 - 1s - loss: 0.2985 - val_loss: 2.0245\n",
      "Epoch 88/300\n",
      "9572/9572 - 1s - loss: 0.3346 - val_loss: 1.8988\n",
      "Epoch 89/300\n",
      "9572/9572 - 1s - loss: 0.3235 - val_loss: 2.0276\n",
      "Epoch 90/300\n",
      "9572/9572 - 1s - loss: 0.3160 - val_loss: 1.9201\n",
      "Epoch 91/300\n",
      "9572/9572 - 1s - loss: 0.3280 - val_loss: 1.8371\n",
      "Epoch 92/300\n",
      "9572/9572 - 1s - loss: 0.3062 - val_loss: 2.0795\n",
      "Epoch 93/300\n",
      "9572/9572 - 1s - loss: 0.3063 - val_loss: 1.8030\n",
      "Epoch 94/300\n",
      "9572/9572 - 1s - loss: 0.3045 - val_loss: 1.9086\n",
      "Epoch 95/300\n",
      "9572/9572 - 1s - loss: 0.2843 - val_loss: 1.9181\n",
      "Epoch 96/300\n",
      "9572/9572 - 1s - loss: 0.2790 - val_loss: 1.9033\n",
      "Epoch 97/300\n",
      "9572/9572 - 1s - loss: 0.2909 - val_loss: 1.9327\n",
      "Epoch 98/300\n",
      "9572/9572 - 1s - loss: 0.2679 - val_loss: 1.8562\n",
      "Epoch 99/300\n",
      "9572/9572 - 1s - loss: 0.2875 - val_loss: 1.8940\n",
      "Epoch 100/300\n",
      "9572/9572 - 1s - loss: 0.2835 - val_loss: 2.0656\n",
      "Epoch 101/300\n",
      "9572/9572 - 1s - loss: 0.2812 - val_loss: 1.9843\n",
      "Epoch 102/300\n",
      "9572/9572 - 1s - loss: 0.2938 - val_loss: 2.0401\n",
      "Epoch 103/300\n",
      "9572/9572 - 1s - loss: 0.3032 - val_loss: 1.8468\n",
      "Epoch 104/300\n",
      "9572/9572 - 1s - loss: 0.2764 - val_loss: 1.9098\n",
      "Epoch 105/300\n",
      "9572/9572 - 1s - loss: 0.2858 - val_loss: 2.0125\n",
      "Epoch 106/300\n",
      "9572/9572 - 1s - loss: 0.3194 - val_loss: 2.0280\n",
      "Epoch 107/300\n",
      "9572/9572 - 1s - loss: 0.3376 - val_loss: 2.0174\n",
      "Epoch 108/300\n",
      "9572/9572 - 1s - loss: 0.3352 - val_loss: 1.9667\n",
      "Epoch 109/300\n",
      "9572/9572 - 1s - loss: 0.3069 - val_loss: 1.9576\n",
      "Epoch 110/300\n",
      "9572/9572 - 1s - loss: 0.2987 - val_loss: 1.9484\n",
      "Epoch 111/300\n",
      "9572/9572 - 1s - loss: 0.2832 - val_loss: 1.9059\n",
      "Epoch 112/300\n",
      "9572/9572 - 1s - loss: 0.3089 - val_loss: 2.0033\n",
      "Epoch 113/300\n",
      "9572/9572 - 1s - loss: 0.2794 - val_loss: 1.9295\n",
      "Epoch 114/300\n",
      "9572/9572 - 1s - loss: 0.2759 - val_loss: 1.9618\n",
      "Epoch 115/300\n",
      "9572/9572 - 1s - loss: 0.2761 - val_loss: 1.9345\n",
      "Epoch 116/300\n",
      "9572/9572 - 1s - loss: 0.2741 - val_loss: 2.0570\n",
      "Epoch 117/300\n",
      "9572/9572 - 1s - loss: 0.2615 - val_loss: 2.0165\n",
      "Epoch 118/300\n",
      "Restoring model weights from the end of the best epoch.\n",
      "9572/9572 - 1s - loss: 0.2683 - val_loss: 2.1416\n",
      "Epoch 00118: early stopping\n"
     ]
    }
   ],
   "source": [
    "tf.keras.backend.clear_session()\n",
    "#Xtrain=X_train.values\n",
    "Xtrain=Xsvdtrain \n",
    "#Xtest=X_test.values\n",
    "Xtest=Xsvdtest\n",
    "ytest=y_test.values\n",
    "ytrain=y_train.values\n",
    "nlayer=5\n",
    "n_neurons=200*np.ones(shape=(nlayer,1))\n",
    "eps=0.001\n",
    "n_epoch=300\n",
    "n_batch=100\n",
    "checkpoint_path = \"training_1/cp.ckpt\"\n",
    "\n",
    "TFmodel=build_model(nlayer,n_neurons,Xtrain.shape[1])\n",
    "stop_call = tf.keras.callbacks.EarlyStopping(monitor='val_loss', mode='min',min_delta=0.000001,patience=50,verbose=1,restore_best_weights=True)\n",
    "check_pt = tf.keras.callbacks.ModelCheckpoint(filepath=checkpoint_path,save_best_only=True,save_weights_only=True,verbose=0)\n",
    "modelfit=TFmodel.fit(Xtrain,ytrain,epochs=n_epoch, batch_size=n_batch, validation_split = 0.2, verbose=2,callbacks=[stop_call,check_pt])\n",
    "\n",
    "# Best DL Model: Original X, dropout=0.2,n_epoch=300,batchsize=100, patience=50,layer=5,neuron per layer=256,R2 (train)=96, R2(test)=87"
   ]
  },
  {
   "cell_type": "code",
   "execution_count": 90,
   "metadata": {},
   "outputs": [
    {
     "name": "stdout",
     "output_type": "stream",
     "text": [
      "Training R2= 0.9513011118627407  Test R2= 0.8629978426041548\n"
     ]
    },
    {
     "data": {
      "text/plain": [
       "[<matplotlib.lines.Line2D at 0x7f7f9760bd68>]"
      ]
     },
     "execution_count": 90,
     "metadata": {},
     "output_type": "execute_result"
    },
    {
     "data": {
      "image/png": "[encoded data removed]",
      "text/plain": [
       "<Figure size 432x288 with 1 Axes>"
      ]
     },
     "metadata": {
      "needs_background": "light"
     },
     "output_type": "display_data"
    }
   ],
   "source": [
    "ypred_test = TFmodel.predict(Xtest)\n",
    "ypred_train=TFmodel.predict(Xtrain)\n",
    "R2_TF_test= r2_score(ytest, ypred_test)\n",
    "R2_TF_training=r2_score(ytrain,ypred_train)\n",
    "print (\"Training R2=\",R2_TF_training,\" Test R2=\",R2_TF_test)\n",
    "plt.plot(ytrain,ypred_train,'*')"
   ]
  },
  {
   "cell_type": "code",
   "execution_count": null,
   "metadata": {},
   "outputs": [],
   "source": []
  }
 ],
 "metadata": {
  "kernelspec": {
   "display_name": "Python 3",
   "language": "python",
   "name": "python3"
  },
  "language_info": {
   "codemirror_mode": {
    "name": "ipython",
    "version": 3
   },
   "file_extension": ".py",
   "mimetype": "text/x-python",
   "name": "python",
   "nbconvert_exporter": "python",
   "pygments_lexer": "ipython3",
   "version": "3.7.3"
  }
 },
 "nbformat": 4,
 "nbformat_minor": 2
}
