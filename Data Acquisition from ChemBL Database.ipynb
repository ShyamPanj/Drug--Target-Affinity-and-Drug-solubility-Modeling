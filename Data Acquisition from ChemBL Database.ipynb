{
 "cells": [
  {
   "cell_type": "markdown",
   "metadata": {},
   "source": [
    "# Affinity & Solubility prediction modeling using ChemBL database: A Machine-learning based approach (Data Acquisition)"
   ]
  },
  {
   "cell_type": "markdown",
   "metadata": {},
   "source": [
    "ChEMBL or ChEMBLdb (https://www.ebi.ac.uk/chembl/) is a manually curated chemical database of bioactive molecules with drug-like properties.The objective of this exercise is to download drug and target properties, their chemical structures etc. from ChEMBLdatbase using Google's Bigquery."
   ]
  },
  {
   "cell_type": "code",
   "execution_count": 1,
   "metadata": {},
   "outputs": [],
   "source": [
    "import pandas as pd\n",
    "import numpy as np\n",
    "from google.cloud import bigquery\n",
    "import time"
   ]
  },
  {
   "cell_type": "code",
   "execution_count": 2,
   "metadata": {},
   "outputs": [],
   "source": [
    "# Attach key to bigquery account\n",
    "client = bigquery.Client.from_service_account_json('Project-2019-07-11-cc52a9b796aa.json')"
   ]
  },
  {
   "cell_type": "code",
   "execution_count": 3,
   "metadata": {},
   "outputs": [],
   "source": [
    "# Create reference to ChemBL database\n",
    "dataset_ref=client.dataset('ebi_chembl',project='patents-public-data')\n",
    "dset=client.get_dataset(dataset_ref)"
   ]
  },
  {
   "cell_type": "code",
   "execution_count": 5,
   "metadata": {},
   "outputs": [],
   "source": [
    "chembl_id=client.get_table(dset.table('chembl_id_lookup'))\n",
    "compd_struct=client.get_table(dset.table('compound_structures'))\n",
    "compnt_seq=client.get_table(dset.table('component_sequences'))\n",
    "compd_prop=client.get_table(dset.table('compound_properties'))\n",
    "targetcomp=client.get_table(dset.table('target_components'))\n",
    "target_dict=client.get_table(dset.table('target_dictionary'))\n",
    "activity_prop=client.get_table(dset.table('activity_properties'))\n",
    "activities=client.get_table(dset.table('activities'))\n",
    "assay_data=client.get_table(dset.table('assays'))"
   ]
  },
  {
   "cell_type": "code",
   "execution_count": 6,
   "metadata": {},
   "outputs": [
    {
     "name": "stdout",
     "output_type": "stream",
     "text": [
      "IdTable_size(in gb)= 0.138983734\n",
      "Structure Table Size(in gb)= 4.420113258\n",
      "Sequence Table Size(in gb)= 0.006539581\n",
      "Property Table Size(in gb)= 0.224222659\n",
      "Target component table size(in gb)= 0.000249339\n",
      "Target dictionary table size(in gb)= 0.001126576\n",
      "Activities table size(in gb)= 2.501744964\n",
      "Assay table size(in gb)= 0.260168717\n",
      "IdTable rows= 3502946\n",
      "Structure Table rows= 1870461\n",
      "Sequence Table rows= 9159\n",
      "Property Table rows= 1870451\n",
      "Target component table rows= 10948\n",
      "Target dictionary table rows= 12482\n",
      "Activities table rows= 15504603\n",
      "Assay table rows= 1125387\n"
     ]
    }
   ],
   "source": [
    "#Print table sizes (in gb)\n",
    "print (\"IdTable_size(in gb)=\",chembl_id.num_bytes/10**9)\n",
    "print (\"Structure Table Size(in gb)=\",compd_struct.num_bytes/10**9)\n",
    "print (\"Sequence Table Size(in gb)=\",compnt_seq.num_bytes/10**9)\n",
    "print (\"Property Table Size(in gb)=\",compd_prop.num_bytes/10**9)\n",
    "print (\"Target component table size(in gb)=\",targetcomp.num_bytes/10**9)\n",
    "print (\"Target dictionary table size(in gb)=\",target_dict.num_bytes/10**9)\n",
    "print (\"Activities table size(in gb)=\",activities.num_bytes/10**9)\n",
    "print (\"Assay table size(in gb)=\",assay_data.num_bytes/10**9)\n",
    "\n",
    "# Print number of rows in tables \n",
    "print (\"IdTable rows=\",chembl_id.num_rows)\n",
    "print (\"Structure Table rows=\",compd_struct.num_rows)\n",
    "print (\"Sequence Table rows=\",compnt_seq.num_rows)\n",
    "print (\"Property Table rows=\",compd_prop.num_rows)\n",
    "print (\"Target component table rows=\",targetcomp.num_rows)\n",
    "print (\"Target dictionary table rows=\",target_dict.num_rows)\n",
    "print (\"Activities table rows=\",activities.num_rows)\n",
    "print (\"Assay table rows=\",assay_data.num_rows)"
   ]
  },
  {
   "cell_type": "markdown",
   "metadata": {},
   "source": [
    "Downloading selected columns from the above tables..."
   ]
  },
  {
   "cell_type": "code",
   "execution_count": null,
   "metadata": {},
   "outputs": [],
   "source": [
    "# Download selected columns from Activities table\n",
    "\n",
    "query_job =client.query(\"\"\"\n",
    "SELECT pchembl_value,record_id,assay_id,molregno,standard_type,standard_value,standard_units\n",
    "FROM `patents-public-data.ebi_chembl.activities`\n",
    "LIMIT 20000000\n",
    "      \"\"\")\n",
    "\n",
    "results = query_job.result()  # Waits for job to complete.\n",
    "df_activities=results.to_dataframe()\n",
    "df_activities.to_csv('Activities.csv')"
   ]
  },
  {
   "cell_type": "code",
   "execution_count": 65,
   "metadata": {},
   "outputs": [],
   "source": [
    "# Download selected columns from Assay table\n",
    "query_job =client.query(\"\"\"\n",
    "SELECT chembl_id,assay_id,assay_type,tid\n",
    "FROM `patents-public-data.ebi_chembl.assays`\n",
    "LIMIT 20000000\n",
    "      \"\"\")\n",
    "\n",
    "results = query_job.result()  # Waits for job to complete.\n",
    "df_assay=results.to_dataframe()\n",
    "df_assay.to_csv('Assay.csv')"
   ]
  },
  {
   "cell_type": "code",
   "execution_count": null,
   "metadata": {},
   "outputs": [],
   "source": [
    "# Download selected columns from Compound structure table\n",
    "query_job =client.query(\"\"\"\n",
    "SELECT molregno,canonical_smiles\n",
    "FROM `patents-public-data.ebi_chembl.compound_structures`\n",
    "LIMIT 20000000\n",
    "      \"\"\")\n",
    "\n",
    "results = query_job.result()  # Waits for job to complete.\n",
    "df_compd_struct=results.to_dataframe()\n",
    "df_compd_struct.to_csv('Compound_Structure.csv')"
   ]
  },
  {
   "cell_type": "code",
   "execution_count": null,
   "metadata": {},
   "outputs": [],
   "source": [
    "# Download selected columns from Target Component table\n",
    "query_job =client.query(\"\"\"\n",
    "SELECT tid,component_id\n",
    "FROM `patents-public-data.ebi_chembl.target_components`\n",
    "LIMIT 20000000\n",
    "      \"\"\")\n",
    "\n",
    "results = query_job.result()  # Waits for job to complete.\n",
    "df_targetcomp=results.to_dataframe()\n",
    "df_targetcomp.to_csv('Target_Component.csv')"
   ]
  },
  {
   "cell_type": "code",
   "execution_count": null,
   "metadata": {},
   "outputs": [],
   "source": [
    "# Download selected columns from Target Component sequences table\n",
    "query_job =client.query(\"\"\"\n",
    "SELECT sequence,component_id,component_type\n",
    "FROM `patents-public-data.ebi_chembl.component_sequences`\n",
    "LIMIT 20000000\n",
    "      \"\"\")\n",
    "\n",
    "results = query_job.result()  # Waits for job to complete.\n",
    "df_targetcomp_seq=results.to_dataframe()\n",
    "df_targetcomp_seq.to_csv('Target_Component_Sequences.csv')"
   ]
  },
  {
   "cell_type": "code",
   "execution_count": 5,
   "metadata": {},
   "outputs": [
    {
     "data": {
      "text/html": [
       "<div>\n",
       "<style scoped>\n",
       "    .dataframe tbody tr th:only-of-type {\n",
       "        vertical-align: middle;\n",
       "    }\n",
       "\n",
       "    .dataframe tbody tr th {\n",
       "        vertical-align: top;\n",
       "    }\n",
       "\n",
       "    .dataframe thead th {\n",
       "        text-align: right;\n",
       "    }\n",
       "</style>\n",
       "<table border=\"1\" class=\"dataframe\">\n",
       "  <thead>\n",
       "    <tr style=\"text-align: right;\">\n",
       "      <th></th>\n",
       "      <th>sequence</th>\n",
       "      <th>component_id</th>\n",
       "      <th>description</th>\n",
       "      <th>component_type</th>\n",
       "    </tr>\n",
       "  </thead>\n",
       "  <tbody>\n",
       "    <tr>\n",
       "      <th>0</th>\n",
       "      <td>EVQLVESGGGLVQPGGSLRLSCAASGFTFSSYVMSWVRQAPGKGLE...</td>\n",
       "      <td>6287</td>\n",
       "      <td>Tigatuzumab heavy chain</td>\n",
       "      <td>PROTEIN</td>\n",
       "    </tr>\n",
       "    <tr>\n",
       "      <th>1</th>\n",
       "      <td>DIQMTQSPSSLSASVGDRVTITCKASQDVGTAVAWYQQKPGKAPKL...</td>\n",
       "      <td>6288</td>\n",
       "      <td>Tigatuzumab light chain</td>\n",
       "      <td>PROTEIN</td>\n",
       "    </tr>\n",
       "    <tr>\n",
       "      <th>2</th>\n",
       "      <td>EVQLVESGGGLVQPGGSLRLSCAASGFTFSSYWMSWVRQAPGKGLE...</td>\n",
       "      <td>6293</td>\n",
       "      <td>Enavatuzumab heavy chain</td>\n",
       "      <td>PROTEIN</td>\n",
       "    </tr>\n",
       "  </tbody>\n",
       "</table>\n",
       "</div>"
      ],
      "text/plain": [
       "                                            sequence component_id  \\\n",
       "0  EVQLVESGGGLVQPGGSLRLSCAASGFTFSSYVMSWVRQAPGKGLE...         6287   \n",
       "1  DIQMTQSPSSLSASVGDRVTITCKASQDVGTAVAWYQQKPGKAPKL...         6288   \n",
       "2  EVQLVESGGGLVQPGGSLRLSCAASGFTFSSYWMSWVRQAPGKGLE...         6293   \n",
       "\n",
       "                description component_type  \n",
       "0   Tigatuzumab heavy chain        PROTEIN  \n",
       "1   Tigatuzumab light chain        PROTEIN  \n",
       "2  Enavatuzumab heavy chain        PROTEIN  "
      ]
     },
     "execution_count": 5,
     "metadata": {},
     "output_type": "execute_result"
    }
   ],
   "source": [
    "# Download selected columns from Bio Component sequences table\n",
    "query_job =client.query(\"\"\"\n",
    "SELECT sequence,component_id,description,component_type\n",
    "FROM `patents-public-data.ebi_chembl.bio_component_sequences`\n",
    "LIMIT 20000000\n",
    "      \"\"\")\n",
    "\n",
    "results = query_job.result()  # Waits for job to complete.\n",
    "df_biocomp_seq=results.to_dataframe()\n",
    "df_biocomp_seq.to_csv('Bio_Component_Sequences.csv')"
   ]
  },
  {
   "cell_type": "code",
   "execution_count": 7,
   "metadata": {},
   "outputs": [
    {
     "data": {
      "text/html": [
       "<div>\n",
       "<style scoped>\n",
       "    .dataframe tbody tr th:only-of-type {\n",
       "        vertical-align: middle;\n",
       "    }\n",
       "\n",
       "    .dataframe tbody tr th {\n",
       "        vertical-align: top;\n",
       "    }\n",
       "\n",
       "    .dataframe thead th {\n",
       "        text-align: right;\n",
       "    }\n",
       "</style>\n",
       "<table border=\"1\" class=\"dataframe\">\n",
       "  <thead>\n",
       "    <tr style=\"text-align: right;\">\n",
       "      <th></th>\n",
       "      <th>biocomp_id</th>\n",
       "      <th>molregno</th>\n",
       "      <th>component_id</th>\n",
       "    </tr>\n",
       "  </thead>\n",
       "  <tbody>\n",
       "    <tr>\n",
       "      <th>0</th>\n",
       "      <td>2</td>\n",
       "      <td>1121951</td>\n",
       "      <td>6287</td>\n",
       "    </tr>\n",
       "    <tr>\n",
       "      <th>1</th>\n",
       "      <td>3</td>\n",
       "      <td>1121951</td>\n",
       "      <td>6288</td>\n",
       "    </tr>\n",
       "    <tr>\n",
       "      <th>2</th>\n",
       "      <td>4</td>\n",
       "      <td>1121907</td>\n",
       "      <td>6289</td>\n",
       "    </tr>\n",
       "  </tbody>\n",
       "</table>\n",
       "</div>"
      ],
      "text/plain": [
       "  biocomp_id molregno component_id\n",
       "0          2  1121951         6287\n",
       "1          3  1121951         6288\n",
       "2          4  1121907         6289"
      ]
     },
     "execution_count": 7,
     "metadata": {},
     "output_type": "execute_result"
    }
   ],
   "source": [
    "# Download selected columns from Bio Therapeutic Components table\n",
    "query_job =client.query(\"\"\"\n",
    "SELECT biocomp_id,molregno,component_id\n",
    "FROM `patents-public-data.ebi_chembl.biotherapeutic_components`\n",
    "LIMIT 20000000\n",
    "      \"\"\")\n",
    "\n",
    "results = query_job.result()  # Waits for job to complete.\n",
    "df_biocomp=results.to_dataframe()\n",
    "df_biocomp.to_csv('Bio_Component.csv')\n"
   ]
  },
  {
   "cell_type": "code",
   "execution_count": 9,
   "metadata": {},
   "outputs": [
    {
     "data": {
      "text/html": [
       "<div>\n",
       "<style scoped>\n",
       "    .dataframe tbody tr th:only-of-type {\n",
       "        vertical-align: middle;\n",
       "    }\n",
       "\n",
       "    .dataframe tbody tr th {\n",
       "        vertical-align: top;\n",
       "    }\n",
       "\n",
       "    .dataframe thead th {\n",
       "        text-align: right;\n",
       "    }\n",
       "</style>\n",
       "<table border=\"1\" class=\"dataframe\">\n",
       "  <thead>\n",
       "    <tr style=\"text-align: right;\">\n",
       "      <th></th>\n",
       "      <th>molregno</th>\n",
       "      <th>description</th>\n",
       "    </tr>\n",
       "  </thead>\n",
       "  <tbody>\n",
       "    <tr>\n",
       "      <th>0</th>\n",
       "      <td>3389</td>\n",
       "      <td>ENKEPHALIN</td>\n",
       "    </tr>\n",
       "    <tr>\n",
       "      <th>1</th>\n",
       "      <td>10633</td>\n",
       "      <td>[Val5] - ANGIOTENSIN II</td>\n",
       "    </tr>\n",
       "    <tr>\n",
       "      <th>2</th>\n",
       "      <td>12246</td>\n",
       "      <td>MAGAININ 2</td>\n",
       "    </tr>\n",
       "  </tbody>\n",
       "</table>\n",
       "</div>"
      ],
      "text/plain": [
       "  molregno              description\n",
       "0     3389               ENKEPHALIN\n",
       "1    10633  [Val5] - ANGIOTENSIN II\n",
       "2    12246               MAGAININ 2"
      ]
     },
     "execution_count": 9,
     "metadata": {},
     "output_type": "execute_result"
    }
   ],
   "source": [
    "# Download selected columns from Bio Therapeutics table\n",
    "query_job =client.query(\"\"\"\n",
    "SELECT molregno, description\n",
    "FROM `patents-public-data.ebi_chembl.biotherapeutics`\n",
    "LIMIT 20000000\n",
    "      \"\"\")\n",
    "\n",
    "results = query_job.result()  # Waits for job to complete.\n",
    "df_biodrug=results.to_dataframe()\n",
    "df_biodrug.to_csv('Biotherapeutic.csv')"
   ]
  }
 ],
 "metadata": {
  "kernelspec": {
   "display_name": "Python 3",
   "language": "python",
   "name": "python3"
  },
  "language_info": {
   "codemirror_mode": {
    "name": "ipython",
    "version": 3
   },
   "file_extension": ".py",
   "mimetype": "text/x-python",
   "name": "python",
   "nbconvert_exporter": "python",
   "pygments_lexer": "ipython3",
   "version": "3.7.3"
  }
 },
 "nbformat": 4,
 "nbformat_minor": 2
}
